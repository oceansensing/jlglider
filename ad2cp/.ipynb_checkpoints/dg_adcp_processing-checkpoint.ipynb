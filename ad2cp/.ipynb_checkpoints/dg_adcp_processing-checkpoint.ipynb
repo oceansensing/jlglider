{
 "cells": [
  {
   "cell_type": "code",
   "execution_count": 1,
   "id": "803c39f3-e6f4-4779-bdbb-b169c89c72ea",
   "metadata": {},
   "outputs": [
    {
     "data": {
      "text/plain": [
       "4-element Vector{String}:\n",
       " \"@\"\n",
       " \"@v#.#\"\n",
       " \"@stdlib\"\n",
       " \"/Users/gong/GitHub/jlglider/seaexplorer\""
      ]
     },
     "execution_count": 1,
     "metadata": {},
     "output_type": "execute_result"
    }
   ],
   "source": [
    "workdir = \"/Users/gong/GitHub/jlglider/seaexplorer\"\n",
    "if (workdir in LOAD_PATH) == false\n",
    "    push!(LOAD_PATH, workdir);\n",
    "end"
   ]
  },
  {
   "cell_type": "code",
   "execution_count": 2,
   "id": "847bffd1-fdfc-433f-95be-e3c06e88c71a",
   "metadata": {},
   "outputs": [
    {
     "name": "stderr",
     "output_type": "stream",
     "text": [
      "\u001b[32m\u001b[1m  Activating\u001b[22m\u001b[39m project at `~/.julia/environments/ocean`\n"
     ]
    }
   ],
   "source": [
    "using Pkg\n",
    "Pkg.activate(\"/Users/gong/.julia/environments/ocean\")"
   ]
  },
  {
   "cell_type": "code",
   "execution_count": 6,
   "id": "3d50e665-394c-4fac-96de-cd45c4a56fb9",
   "metadata": {},
   "outputs": [],
   "source": [
    "using PyCall, Plots"
   ]
  },
  {
   "cell_type": "code",
   "execution_count": 12,
   "id": "76cf58d0-293b-45fa-9135-c1c0b53098d9",
   "metadata": {},
   "outputs": [
    {
     "name": "stdout",
     "output_type": "stream",
     "text": [
      "/Users/gong/oceansensing Dropbox/C2PO/glider/gliderData/sea064-20231112-norse/glimpse/SEA064.48.gli.sub.all.csv\n"
     ]
    },
    {
     "name": "stderr",
     "output_type": "stream",
     "text": [
      "WARNING: replacing module seaexplorerFunc.\n",
      "WARNING: ignoring conflicting import of seaexplorerFunc.load_NAV into Main\n",
      "WARNING: ignoring conflicting import of seaexplorerFunc.load_PLD into Main\n",
      "WARNING: ignoring conflicting import of seaexplorerFunc.seaexplorer_load_mission into Main\n",
      "WARNING: ignoring conflicting import of seaexplorerFunc.seaexplorer_process into Main\n"
     ]
    },
    {
     "name": "stdout",
     "output_type": "stream",
     "text": [
      "/Users/gong/oceansensing Dropbox/C2PO/glider/gliderData/sea064-20231112-norse/glimpse/SEA064.48.pld1.sub.all.csv\n"
     ]
    },
    {
     "data": {
      "text/plain": [
       "40158-element SentinelArrays.ChainedVector{Int64, Vector{Int64}}:\n",
       "   1\n",
       "   1\n",
       "   1\n",
       "   1\n",
       "   1\n",
       "   1\n",
       "   1\n",
       "   1\n",
       "   1\n",
       "   1\n",
       "   1\n",
       "   1\n",
       "   1\n",
       "   ⋮\n",
       " 248\n",
       " 248\n",
       " 248\n",
       " 248\n",
       " 248\n",
       " 248\n",
       " 248\n",
       " 248\n",
       " 248\n",
       " 248\n",
       " 248\n",
       " 248"
      ]
     },
     "metadata": {},
     "output_type": "display_data"
    }
   ],
   "source": [
    "ad2cpdatadir = \"/Users/gong/GitHub/jlglider/ad2cp/data/\";\n",
    "include(workdir * \"/write_glider_data.jl\");\n",
    "write_glider_data(glider = \"SEA064\", mission = 48, csvdir = ad2cpdatadir);"
   ]
  },
  {
   "cell_type": "code",
   "execution_count": 10,
   "id": "4c33e814-776f-43b1-88b2-253645389fc7",
   "metadata": {},
   "outputs": [],
   "source": [
    "process_adcp = pyimport(\"gliderad2cp.process_adcp\");"
   ]
  },
  {
   "cell_type": "code",
   "execution_count": null,
   "id": "0c22c9d1-489e-4ea3-a42a-af90cd64f588",
   "metadata": {},
   "outputs": [],
   "source": [
    "glider_path_csv = ad2cpdatadir * \"SEA064_M48.csv\";\n",
    "ad2cp_path_nc = ad2cpdatadir * \"sea064_M48.ad2cp.00000.nc\";"
   ]
  }
 ],
 "metadata": {
  "kernelspec": {
   "display_name": "Julia (8 threads) 1.11.0-beta2",
   "language": "julia",
   "name": "julia-_8-threads_-1.11"
  },
  "language_info": {
   "file_extension": ".jl",
   "mimetype": "application/julia",
   "name": "julia",
   "version": "1.11.0"
  }
 },
 "nbformat": 4,
 "nbformat_minor": 5
}
